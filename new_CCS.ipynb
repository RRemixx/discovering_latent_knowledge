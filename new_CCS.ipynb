{
 "cells": [
  {
   "cell_type": "code",
   "execution_count": 1,
   "id": "ba8af3f8",
   "metadata": {},
   "outputs": [
    {
     "name": "stderr",
     "output_type": "stream",
     "text": [
      "/home/asuka/anaconda3/envs/llm/lib/python3.7/site-packages/tqdm/auto.py:22: TqdmWarning: IProgress not found. Please update jupyter and ipywidgets. See https://ipywidgets.readthedocs.io/en/stable/user_install.html\n",
      "  from .autonotebook import tqdm as notebook_tqdm\n"
     ]
    }
   ],
   "source": [
    "from tqdm import tqdm\n",
    "import copy\n",
    "import numpy as np\n",
    "import torch\n",
    "import torch.nn as nn\n",
    "import torch.nn.functional as F\n",
    "\n",
    "from datasets import load_dataset\n",
    "from transformers import AutoTokenizer, AutoModelForSeq2SeqLM, AutoModelForMaskedLM, AutoModelForCausalLM\n",
    "from sklearn.linear_model import LogisticRegression\n",
    "\n",
    "from ccs_model import CCS\n",
    "from ccs_utils import *"
   ]
  },
  {
   "cell_type": "code",
   "execution_count": 2,
   "id": "e6b45244",
   "metadata": {},
   "outputs": [],
   "source": [
    "%load_ext autoreload\n",
    "%autoreload 2\n"
   ]
  },
  {
   "cell_type": "code",
   "execution_count": null,
   "id": "490f283d",
   "metadata": {},
   "outputs": [
    {
     "ename": "",
     "evalue": "",
     "output_type": "error",
     "traceback": [
      "\u001b[1;31mThe Kernel crashed while executing code in the current cell or a previous cell. \n",
      "\u001b[1;31mPlease review the code in the cell(s) to identify a possible cause of the failure. \n",
      "\u001b[1;31mClick <a href='https://aka.ms/vscodeJupyterKernelCrash'>here</a> for more info. \n",
      "\u001b[1;31mView Jupyter <a href='command:jupyter.viewOutput'>log</a> for further details."
     ]
    }
   ],
   "source": [
    "def get_model_and_data(model_name=\"deberta\", cache_dir=None, save_path=None, n=2000):\n",
    "    # Let's just try IMDB for simplicity\n",
    "    data = load_dataset(\"amazon_polarity\")[\"test\"]\n",
    "\n",
    "    if model_name == \"deberta\":\n",
    "        model_type = \"encoder\"\n",
    "        tokenizer = AutoTokenizer.from_pretrained(\"microsoft/deberta-v2-xxlarge\", cache_dir=cache_dir)\n",
    "        model = AutoModelForMaskedLM.from_pretrained(\"microsoft/deberta-v2-xxlarge\", cache_dir=cache_dir)\n",
    "        model.cuda()\n",
    "    elif model_name == \"gpt-j\":\n",
    "        model_type = \"decoder\"\n",
    "        tokenizer = AutoTokenizer.from_pretrained(\"EleutherAI/gpt-j-6B\", cache_dir=cache_dir)\n",
    "        model = AutoModelForCausalLM.from_pretrained(\"EleutherAI/gpt-j-6B\", cache_dir=cache_dir)\n",
    "        model.cuda()\n",
    "    elif model_name == \"t5\":\n",
    "        model_type = \"encoder_decoder\"\n",
    "        tokenizer = AutoTokenizer.from_pretrained(\"t5-11b\", cache_dir=cache_dir)\n",
    "        model = AutoModelForSeq2SeqLM.from_pretrained(\"t5-11b\", cache_dir=cache_dir)\n",
    "        model.parallelize()  # T5 is big enough that we may need to run it on multiple GPUs\n",
    "    else:\n",
    "        raise ValueError(f\"Model {model_name} not implemented!\")\n",
    "\n",
    "    neg_hs, pos_hs, y = get_hidden_states_many_examples(model, tokenizer, data, model_type, n=n)\n",
    "    \n",
    "    # Save the processed data to a single file\n",
    "    np.savez(save_path, neg_hs=neg_hs, pos_hs=pos_hs, y=y)\n",
    "    \n",
    "    return neg_hs, pos_hs, y\n",
    "\n",
    "\n",
    "def validate(neg_hs, pos_hs, y):\n",
    "    # let's create a simple 50/50 train split (the data is already randomized)\n",
    "    n = len(y)\n",
    "    neg_hs_train, neg_hs_test = neg_hs[:n//2], neg_hs[n//2:]\n",
    "    pos_hs_train, pos_hs_test = pos_hs[:n//2], pos_hs[n//2:]\n",
    "    y_train, y_test = y[:n//2], y[n//2:]\n",
    "\n",
    "    # for simplicity we can just take the difference between positive and negative hidden states\n",
    "    # (concatenating also works fine)\n",
    "    x_train = neg_hs_train - pos_hs_train\n",
    "    x_test = neg_hs_test - pos_hs_test\n",
    "\n",
    "    lr = LogisticRegression(class_weight=\"balanced\")\n",
    "    lr.fit(x_train, y_train)\n",
    "    print(\"Logistic regression accuracy: {}\".format(lr.score(x_test, y_test)))\n",
    "    \n",
    "    return neg_hs_train, neg_hs_test, pos_hs_train, pos_hs_test, y_train, y_test\n",
    "\n",
    "\n",
    "def eval_css(neg_hs_train, neg_hs_test, pos_hs_train, pos_hs_test, y_train, y_test):\n",
    "    # Train CCS without any labels\n",
    "    ccs = CCS(neg_hs_train, pos_hs_train)\n",
    "    ccs.repeated_train()\n",
    "\n",
    "    # Evaluate\n",
    "    ccs_acc = ccs.get_acc(neg_hs_test, pos_hs_test, y_test)\n",
    "    print(\"CCS accuracy: {}\".format(ccs_acc))\n",
    "\n",
    "    # Train CCS with labels\n",
    "    ccs_supervised = CCS(neg_hs_train, pos_hs_train)\n",
    "    ccs_supervised.supervised_train(y_train, batch_size=32, verbose=False, nepochs=50)\n",
    "    ccs_supervised.repeated_train()\n",
    "\n",
    "    # Evaluate\n",
    "    ccs_supervised_acc = ccs_supervised.get_acc(neg_hs_test, pos_hs_test, y_test)\n",
    "    print(\"CCS supervised accuracy: {}\".format(ccs_supervised_acc))"
   ]
  },
  {
   "cell_type": "code",
   "execution_count": null,
   "id": "88525404",
   "metadata": {},
   "outputs": [
    {
     "name": "stderr",
     "output_type": "stream",
     "text": [
      "Found cached dataset parquet (/home/asuka/.cache/huggingface/datasets/parquet/amazon_polarity-d48d00b6869479db/0.0.0/14a00e99c0d15a23649d0db8944380ac81082d4b021f398733dd84f3a6c569a7)\n",
      "100%|██████████| 2/2 [00:01<00:00,  1.30it/s]\n"
     ]
    }
   ],
   "source": [
    "model_name = 'gpt-j'\n",
    "\n",
    "data_file = f'data/{model_name}.npz'\n",
    "# Load data otherwise download and process data\n",
    "try:\n",
    "    data = np.load(data_file)\n",
    "    neg_hs = data['neg_hs']\n",
    "    pos_hs = data['pos_hs']\n",
    "    y = data['y']\n",
    "except FileNotFoundError:\n",
    "    # If the file doesn't exist, process the data\n",
    "    neg_hs, pos_hs, y = get_model_and_data(model_name=f\"{model_name}\", cache_dir=None, n=2)\n",
    "\n",
    "# Validate the data\n",
    "neg_hs_train, neg_hs_test, pos_hs_train, pos_hs_test, y_train, y_test = validate(neg_hs, pos_hs, y)"
   ]
  },
  {
   "cell_type": "code",
   "execution_count": null,
   "id": "9366867b",
   "metadata": {},
   "outputs": [
    {
     "name": "stdout",
     "output_type": "stream",
     "text": [
      "CCS accuracy: 0.92\n",
      "First 5 x values: tensor([[ 0.4579,  0.3842,  0.0718,  ..., -0.1573,  0.1860,  0.0675],\n",
      "        [-0.1846,  0.1623, -0.2492,  ...,  0.0315,  0.2465,  0.1014],\n",
      "        [ 0.0493,  0.1822, -0.1704,  ...,  0.0660, -0.1891, -0.2362],\n",
      "        [ 0.0234,  0.4391,  0.2915,  ...,  0.0321, -0.0934,  0.0675],\n",
      "        [ 0.2578,  0.2625, -0.0418,  ...,  0.0118, -0.1849,  0.1015]],\n",
      "       device='cuda:0')\n",
      "First 5 y values: tensor([[1.],\n",
      "        [0.],\n",
      "        [1.],\n",
      "        [0.],\n",
      "        [1.]], device='cuda:0')\n",
      "Shape of x: torch.Size([100, 1536])\n",
      "Shape of y: torch.Size([100, 1])\n",
      "Unique y values: tensor([0., 1.], device='cuda:0')\n",
      "Distribution of y values: tensor([58, 42], device='cuda:0')\n",
      "100 32 3\n"
     ]
    },
    {
     "name": "stderr",
     "output_type": "stream",
     "text": [
      "100%|██████████| 50/50 [00:00<00:00, 371.57it/s]\n"
     ]
    },
    {
     "data": {
      "image/png": "[encoded data removed]",
      "text/plain": [
       "<Figure size 432x288 with 1 Axes>"
      ]
     },
     "metadata": {
      "needs_background": "light"
     },
     "output_type": "display_data"
    },
    {
     "name": "stdout",
     "output_type": "stream",
     "text": [
      "CCS supervised accuracy: 0.92\n"
     ]
    }
   ],
   "source": [
    "# Evaluate CCS\n",
    "eval_css(neg_hs_train, neg_hs_test, pos_hs_train, pos_hs_test, y_train, y_test)"
   ]
  }
 ],
 "metadata": {
  "kernelspec": {
   "display_name": "llm",
   "language": "python",
   "name": "python3"
  },
  "language_info": {
   "codemirror_mode": {
    "name": "ipython",
    "version": 3
   },
   "file_extension": ".py",
   "mimetype": "text/x-python",
   "name": "python",
   "nbconvert_exporter": "python",
   "pygments_lexer": "ipython3",
   "version": "3.7.5"
  }
 },
 "nbformat": 4,
 "nbformat_minor": 5
}
